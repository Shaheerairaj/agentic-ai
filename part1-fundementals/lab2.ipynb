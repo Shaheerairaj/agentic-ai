{
 "cells": [
  {
   "cell_type": "markdown",
   "id": "76aa0469",
   "metadata": {},
   "source": [
    "# Structured Outputs\n",
    "\n",
    "LLMs regurgitate out text and that is great for so many applications. But in order to build strong, robust systems and applications, we need to make sense of the chaos sometimes by receiving a pre-determined structured output everytime an LLM is called."
   ]
  },
  {
   "cell_type": "markdown",
   "id": "4a54393e",
   "metadata": {},
   "source": [
    "## As always, libraries first!"
   ]
  },
  {
   "cell_type": "code",
   "execution_count": 1,
   "id": "0fbfc53d",
   "metadata": {},
   "outputs": [],
   "source": [
    "import os\n",
    "from openai import OpenAI\n",
    "from dotenv import load_dotenv\n",
    "from IPython.display import display, Markdown\n",
    "\n",
    "\n",
    "load_dotenv()\n",
    "\n",
    "OPENAI_API_KEY = os.getenv(\"OPENAI_API_KEY\")\n",
    "GEMINI_API_KEY = os.getenv(\"GEMINI_API_KEY\")\n",
    "ANTHROPIC_API_KEY = os.getenv(\"ANTHROPIC_API_KEY\")\n",
    "\n",
    "# check if API keys are set\n",
    "if not OPENAI_API_KEY:\n",
    "    raise ValueError(\"Missing OpenAI API key\")\n",
    "if not GEMINI_API_KEY:\n",
    "    raise ValueError(\"Missing Gemini API key\")\n",
    "if not ANTHROPIC_API_KEY:\n",
    "    raise ValueError(\"Missing Anthropic API key\")"
   ]
  },
  {
   "cell_type": "markdown",
   "id": "92b1446b",
   "metadata": {},
   "source": [
    "## Introducing the Pydantic library"
   ]
  },
  {
   "cell_type": "code",
   "execution_count": 2,
   "id": "d92a7c30",
   "metadata": {},
   "outputs": [],
   "source": [
    "from pydantic import BaseModel\n",
    "\n",
    "class CustomerTicket(BaseModel):\n",
    "    ticket: str\n",
    "    priority: str\n",
    "\n",
    "class TicketResponse(BaseModel):\n",
    "    response: str\n",
    "    resolution_time: str\n",
    "\n",
    "class TicketEvaluation(BaseModel):\n",
    "    passed: bool\n",
    "    feedback: str"
   ]
  },
  {
   "cell_type": "markdown",
   "id": "eec10603",
   "metadata": {},
   "source": [
    "## Calling OpenAI to generate support tickets"
   ]
  },
  {
   "cell_type": "code",
   "execution_count": 3,
   "id": "9b252a5e",
   "metadata": {},
   "outputs": [],
   "source": [
    "user_message = \"I want you to generate a customer support ticket for a 3rd party tech re-seller. \"\n",
    "user_message += \"The ticket should be a single sentence describing a common issue a customer might face with their product or service. \"\n",
    "user_message += \"Please ensure the ticket is varied and covers different types of problems.\"\n",
    "\n",
    "messages = [{\"role\": \"user\", \"content\": user_message}]"
   ]
  },
  {
   "cell_type": "code",
   "execution_count": 4,
   "id": "775634e5",
   "metadata": {},
   "outputs": [],
   "source": [
    "client = OpenAI()\n",
    "\n",
    "openai_response = client.chat.completions.parse(\n",
    "    model=\"gpt-4.1-nano\",\n",
    "    messages=messages,\n",
    "    response_format=CustomerTicket\n",
    ")\n",
    "\n",
    "tickets = openai_response.choices[0].message.parsed\n",
    "\n",
    "# display(Markdown(tickets))"
   ]
  },
  {
   "cell_type": "code",
   "execution_count": 5,
   "id": "a81859aa",
   "metadata": {},
   "outputs": [
    {
     "data": {
      "text/plain": [
       "\"The customer's printer is not responding when attempting to print documents.\""
      ]
     },
     "execution_count": 5,
     "metadata": {},
     "output_type": "execute_result"
    }
   ],
   "source": [
    "tickets.ticket"
   ]
  },
  {
   "cell_type": "code",
   "execution_count": 6,
   "id": "f75cee14",
   "metadata": {},
   "outputs": [
    {
     "data": {
      "text/plain": [
       "'High'"
      ]
     },
     "execution_count": 6,
     "metadata": {},
     "output_type": "execute_result"
    }
   ],
   "source": [
    "tickets.priority"
   ]
  },
  {
   "cell_type": "markdown",
   "id": "9e222b10",
   "metadata": {},
   "source": [
    "## An evaluator-optimizer workflow"
   ]
  },
  {
   "cell_type": "code",
   "execution_count": 7,
   "id": "c5b84eb6",
   "metadata": {},
   "outputs": [],
   "source": [
    "message = \"You are to propose a resolution for the following customer support ticket. \\n\\n\"\n",
    "message += f\"Ticket: {tickets.ticket}\\n\"\n",
    "message += f\"Priority: {tickets.priority}\\n\\n\"\n",
    "\n",
    "messages = [{\"role\": \"user\", \"content\": message}]"
   ]
  },
  {
   "cell_type": "code",
   "execution_count": 8,
   "id": "c30f487e",
   "metadata": {},
   "outputs": [],
   "source": [
    "response = client.chat.completions.parse(\n",
    "    model=\"gpt-4.1-nano\",\n",
    "    messages=messages,\n",
    "    response_format=TicketResponse\n",
    ")\n",
    "\n",
    "response = response.choices[0].message.parsed"
   ]
  },
  {
   "cell_type": "code",
   "execution_count": 11,
   "id": "65bcd306",
   "metadata": {},
   "outputs": [
    {
     "data": {
      "text/markdown": [
       "Thank you for bringing this issue to our attention. To resolve the printer not responding, please follow these steps:\n",
       "\n",
       "1. Ensure the printer is powered on and connected properly to your computer or network.\n",
       "2. Check for any error messages or indicator lights on the printer.\n",
       "3. Restart the printer and your computer.\n",
       "4. Verify that the printer drivers are up to date.\n",
       "5. If using a network printer, ensure it is connected to the network and accessible.\n",
       "\n",
       "If the issue persists after these steps, please provide the printer model and any error messages displayed, so we can assist further. We understand this is a high-priority issue and will do our best to resolve it promptly."
      ],
      "text/plain": [
       "<IPython.core.display.Markdown object>"
      ]
     },
     "metadata": {},
     "output_type": "display_data"
    }
   ],
   "source": [
    "display(Markdown(response.response))"
   ]
  },
  {
   "cell_type": "code",
   "execution_count": 12,
   "id": "38d70acf",
   "metadata": {},
   "outputs": [
    {
     "data": {
      "text/markdown": [
       "Within 4 hours of receiving the ticket."
      ],
      "text/plain": [
       "<IPython.core.display.Markdown object>"
      ]
     },
     "metadata": {},
     "output_type": "display_data"
    }
   ],
   "source": [
    "display(Markdown(response.resolution_time))"
   ]
  },
  {
   "cell_type": "code",
   "execution_count": 17,
   "id": "d5fca2d9",
   "metadata": {},
   "outputs": [
    {
     "data": {
      "text/plain": [
       "'Within 4 hours of receiving the ticket.'"
      ]
     },
     "execution_count": 17,
     "metadata": {},
     "output_type": "execute_result"
    }
   ],
   "source": [
    "response.resolution_time"
   ]
  },
  {
   "cell_type": "markdown",
   "id": "26c5907b",
   "metadata": {},
   "source": [
    "## Lets evaluate our response"
   ]
  },
  {
   "cell_type": "code",
   "execution_count": 19,
   "id": "f897e205",
   "metadata": {},
   "outputs": [
    {
     "data": {
      "text/plain": [
       "[{'role': 'user',\n",
       "  'content': \"You are to evaluate the proposed resolution for the following customer support ticket. You will determine if the proposed resolution is appropriate for the ticket and priority level. tickets\\n\\nTicket: The customer's printer is not responding when attempting to print documents.\\nPriority: High\\n\\nProposed Resolution: Thank you for bringing this issue to our attention. To resolve the printer not responding, please follow these steps:\\n\\n1. Ensure the printer is powered on and connected properly to your computer or network.\\n2. Check for any error messages or indicator lights on the printer.\\n3. Restart the printer and your computer.\\n4. Verify that the printer drivers are up to date.\\n5. If using a network printer, ensure it is connected to the network and accessible.\\n\\nIf the issue persists after these steps, please provide the printer model and any error messages displayed, so we can assist further. We understand this is a high-priority issue and will do our best to resolve it promptly.\\nProposed Resolution Time: Within 4 hours of receiving the ticket.\\n\\n\"}]"
      ]
     },
     "execution_count": 19,
     "metadata": {},
     "output_type": "execute_result"
    }
   ],
   "source": [
    "messages"
   ]
  },
  {
   "cell_type": "code",
   "execution_count": null,
   "id": "2db24768",
   "metadata": {},
   "outputs": [],
   "source": [
    "message = \"You are to evaluate the proposed resolution for the following customer support ticket. \"\n",
    "message += \"You will determine if the proposed resolution is appropriate for the ticket and priority level. \"\n",
    "message += \"tickets\\n\\n\"\n",
    "message += f\"Ticket: {tickets.ticket}\\n\"\n",
    "message += f\"Priority: {tickets.priority}\\n\\n\"\n",
    "message += f\"Proposed Resolution: {response.response}\\n\"\n",
    "message += f\"Proposed Resolution Time: {response.resolution_time}\\n\\n\"\n",
    "\n",
    "messages = [{\"role\": \"user\", \"content\": message}]"
   ]
  },
  {
   "cell_type": "code",
   "execution_count": 28,
   "id": "02b53969",
   "metadata": {},
   "outputs": [],
   "source": [
    "evaluate = client.chat.completions.parse(\n",
    "    model=\"gpt-4.1-nano\",\n",
    "    messages=messages,\n",
    "    response_format=TicketEvaluation\n",
    ")\n",
    "\n",
    "evaluate = evaluate.choices[0].message.parsed"
   ]
  },
  {
   "cell_type": "code",
   "execution_count": 29,
   "id": "e6e96ec5",
   "metadata": {},
   "outputs": [
    {
     "name": "stdout",
     "output_type": "stream",
     "text": [
      "Pass or not:  False\n",
      "Feedback:  The proposed resolution provides general troubleshooting steps suitable for addressing a non-responsive printer; however, the suggested resolution time of 12 days is too lengthy for a high-priority issue. High-priority tickets typically require immediate or prompt attention to minimize disruption. It would be more appropriate to expedite the resolution process, perhaps aiming for initial troubleshooting within 1-2 days, and providing a clear, urgent support plan to the customer.\n"
     ]
    }
   ],
   "source": [
    "print(\"Pass or not: \", evaluate.passed)\n",
    "print(\"Feedback: \", evaluate.feedback)"
   ]
  },
  {
   "cell_type": "code",
   "execution_count": null,
   "id": "86ef8ad6",
   "metadata": {},
   "outputs": [],
   "source": []
  }
 ],
 "metadata": {
  "kernelspec": {
   "display_name": "agentic-ai-course",
   "language": "python",
   "name": "python3"
  },
  "language_info": {
   "codemirror_mode": {
    "name": "ipython",
    "version": 3
   },
   "file_extension": ".py",
   "mimetype": "text/x-python",
   "name": "python",
   "nbconvert_exporter": "python",
   "pygments_lexer": "ipython3",
   "version": "3.13.5"
  }
 },
 "nbformat": 4,
 "nbformat_minor": 5
}

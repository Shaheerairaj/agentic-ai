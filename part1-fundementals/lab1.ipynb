{
 "cells": [
  {
   "cell_type": "markdown",
   "id": "96520fca",
   "metadata": {},
   "source": [
    "# Basic Agentic Workflow\n",
    "\n",
    "Helloooo everyone and welcome to an exciting lesson on Agentic AI! 🎉\n",
    "\n",
    "Today, we're diving into **prompt chaining** agentic workflow pattern. What's that? It's just passing the output from one LLM to the next, step by step. Think of it like a relay race, but with prompts instead of batons.\n",
    "\n",
    "We'll keep things super simple: manually run each cell, watch the magic happen, and see how chaining LLM calls lets us build more complex workflows.\n",
    "\n",
    "Ready to see how agents can work together? Let's get started!"
   ]
  },
  {
   "cell_type": "markdown",
   "id": "655eac71",
   "metadata": {},
   "source": [
    "## As always, libraries first!"
   ]
  },
  {
   "cell_type": "code",
   "execution_count": null,
   "id": "8f696afb",
   "metadata": {},
   "outputs": [],
   "source": [
    "import os\n",
    "from openai import OpenAI\n",
    "from dotenv import load_dotenv\n",
    "from IPython.display import display, Markdown\n",
    "\n",
    "\n",
    "load_dotenv()\n",
    "\n",
    "OPENAI_API_KEY = os.getenv(\"OPENAI_API_KEY\")\n",
    "GEMINI_API_KEY = os.getenv(\"GEMINI_API_KEY\")\n",
    "ANTHROPIC_API_KEY = os.getenv(\"ANTHROPIC_API_KEY\")\n",
    "\n",
    "# check if API keys are set\n",
    "if not OPENAI_API_KEY:\n",
    "    raise ValueError(\"Missing OpenAI API key\")\n",
    "if not GEMINI_API_KEY:\n",
    "    raise ValueError(\"Missing Gemini API key\")\n",
    "if not ANTHROPIC_API_KEY:\n",
    "    raise ValueError(\"Missing Anthropic API key\")"
   ]
  },
  {
   "cell_type": "markdown",
   "id": "5bab264f",
   "metadata": {},
   "source": [
    "You can set your API Keys for each of the LLM providers using the following links:\n",
    "\n",
    "- [OpenAI](https://platform.openai.com/api-keys)\n",
    "- [Anthropic](https://console.anthropic.com/settings/keys)\n",
    "- [Gemini](https://aistudio.google.com/app/apikey)\n",
    "\n",
    "Once you have created the API Keys, you can store them on your `.env` file at the root of this repo"
   ]
  },
  {
   "cell_type": "markdown",
   "id": "91357479",
   "metadata": {},
   "source": [
    "<div style=\"border-radius:16px;background:#2e3440;margin:1em 0;padding:1em 1em 1em 3em;color:#eceff4;position:relative;box-shadow:0 6px 16px rgba(0,0,0,.4)\">\n",
    "    <b style=\"color:#88c0d0;font-size:1.25em\">Info:</b>\n",
    "    <ul style=\"margin:.6em 0 0;padding-left:1.2em;line-height:1.6\">\n",
    "        <li>You can complete this entire notebook using just OpenAI models if you prefer!</li>\n",
    "        <li>It's absolutely fine to skip Anthropic and Gemini for now — the workflow works perfectly with only OpenAI.</li>\n",
    "        <li>Feel free to experiment with other providers later, but don't let missing API keys slow you down.</li>\n",
    "    </ul>\n",
    "    <div style=\"position:absolute;top:-.8em;left:-.8em;width:2.4em;height:2.4em;border-radius:50%;background:#88c0d0;color:#2e3440;display:flex;align-items:center;justify-content:center;font-weight:700;font-size:1.2em\">💡</div>\n",
    "</div>"
   ]
  },
  {
   "cell_type": "markdown",
   "id": "4a8641ab",
   "metadata": {},
   "source": [
    "## Lets start with using OpenAI"
   ]
  },
  {
   "cell_type": "code",
   "execution_count": null,
   "id": "11ab44e3",
   "metadata": {},
   "outputs": [],
   "source": [
    "message = \"I want you to generate 3 customer support tickets for a 3rd party tech re-seller. \"\n",
    "message += \"Each ticket should be a single sentence describing a common issue a customer might face with their product or service. \"\n",
    "message += \"Please ensure the tickets are varied and cover different types of problems.\"\n",
    "\n",
    "messages = [{\"role\": \"user\", \"content\": message}]"
   ]
  },
  {
   "cell_type": "code",
   "execution_count": null,
   "id": "2aa74d83",
   "metadata": {},
   "outputs": [],
   "source": [
    "openai_client = OpenAI()\n",
    "\n",
    "openai_response = openai_client.chat.completions.create(\n",
    "    model=\"gpt-4.1-nano\",\n",
    "    messages=messages\n",
    ")\n",
    "\n",
    "tickets = openai_response.choices[0].message.content\n",
    "\n",
    "display(Markdown(tickets))"
   ]
  },
  {
   "cell_type": "markdown",
   "id": "38015b29",
   "metadata": {},
   "source": [
    "## Lets pass these on to an Anthropic model and ask it to classify the priority level of each ticket"
   ]
  },
  {
   "cell_type": "code",
   "execution_count": null,
   "id": "d52a9bab",
   "metadata": {},
   "outputs": [],
   "source": [
    "anthropic_client = OpenAI(api_key=ANTHROPIC_API_KEY, base_url=\"https://api.anthropic.com/v1\")"
   ]
  },
  {
   "cell_type": "code",
   "execution_count": null,
   "id": "424c9084",
   "metadata": {},
   "outputs": [],
   "source": [
    "message = \"You are an expert customer support agent. Classify the priority level of each ticket as either 'low', 'medium', or 'high'. \"\n",
    "message += \"Here are the tickets:\\n\\n\"\n",
    "message += tickets\n",
    "\n",
    "messages = [{\"role\": \"user\", \"content\": message}]"
   ]
  },
  {
   "cell_type": "code",
   "execution_count": null,
   "id": "70cfade7",
   "metadata": {},
   "outputs": [],
   "source": [
    "anthropic_response = anthropic_client.chat.completions.create(\n",
    "    model=\"claude-3-5-haiku-latest\",\n",
    "    messages=messages\n",
    ")\n",
    "\n",
    "priorities = anthropic_response.choices[0].message.content\n",
    "\n",
    "display(Markdown(priorities))"
   ]
  },
  {
   "cell_type": "markdown",
   "id": "ed235e15",
   "metadata": {},
   "source": [
    "## Now Gemini should determine the appropriate response"
   ]
  },
  {
   "cell_type": "code",
   "execution_count": null,
   "id": "5c2304b7",
   "metadata": {},
   "outputs": [],
   "source": [
    "gemini_client = OpenAI(api_key=GEMINI_API_KEY, base_url=\"https://generativelanguage.googleapis.com/v1beta/openai/\")"
   ]
  },
  {
   "cell_type": "code",
   "execution_count": null,
   "id": "9b123501",
   "metadata": {},
   "outputs": [],
   "source": [
    "message = \"You are to determine the appropriate response to each customer support ticket based on its priority level \"\n",
    "message += \"Give one sentence replies to each ticket and how long it will take to resolve:\\n\\n\"\n",
    "message += tickets + \"\\n\\n\" + priorities\n",
    "\n",
    "messages = [{\"role\": \"user\", \"content\": message}]"
   ]
  },
  {
   "cell_type": "code",
   "execution_count": null,
   "id": "3addbecc",
   "metadata": {},
   "outputs": [],
   "source": [
    "response = gemini_client.chat.completions.create(\n",
    "    model=\"gemini-2.5-flash\",\n",
    "    messages=messages\n",
    ")\n",
    "\n",
    "responses = response.choices[0].message.content\n",
    "\n",
    "display(Markdown(responses))"
   ]
  },
  {
   "cell_type": "markdown",
   "id": "be180d46",
   "metadata": {},
   "source": [
    "<div style=\"border-radius:16px;background:#1e2a1e;margin:1em 0;padding:1em 1em 1em 3em;color:#eceff4;position:relative;box-shadow:0 6px 16px rgba(0,0,0,.4)\">\n",
    "    <b style=\"color:#a3be8c;font-size:1.25em\">Your Challenge:</b>\n",
    "    <ul style=\"margin:.6em 0 0;padding-left:1.2em;line-height:1.6\"></ul>\n",
    "        <li>Recreate the customer support ticket workflow using an <b>evaluator-optimizer agentic workflow pattern</b> instead of prompt chaining.</li>\n",
    "        <li>Your evaluator agent should assess the quality and completeness of each ticket and suggest improvements.</li>\n",
    "        <li>Your optimizer agent should revise the tickets based on evaluator feedback, aiming for clarity and actionable details.</li>\n",
    "        <li>Try to implement this using at least two LLM calls (one for evaluation, one for optimization) and display the before/after results.</li>\n",
    "        <li>Share your work in the community-contributions folder by creating a folder with your name. Eg. shaheer-airaj.</li>\n",
    "    </ul>\n",
    "    <div style=\"position:absolute;top:-.8em;left:-.8em;width:2.4em;height:2.4em;border-radius:50%;background:#a3be8c;color:#2e3440;display:flex;align-items:center;justify-content:center;font-weight:700;font-size:1.2em\">💪</div>\n",
    "</div>"
   ]
  }
 ],
 "metadata": {
  "kernelspec": {
   "display_name": "agentic-ai-course",
   "language": "python",
   "name": "python3"
  },
  "language_info": {
   "codemirror_mode": {
    "name": "ipython",
    "version": 3
   },
   "file_extension": ".py",
   "mimetype": "text/x-python",
   "name": "python",
   "nbconvert_exporter": "python",
   "pygments_lexer": "ipython3",
   "version": "3.13.5"
  }
 },
 "nbformat": 4,
 "nbformat_minor": 5
}
